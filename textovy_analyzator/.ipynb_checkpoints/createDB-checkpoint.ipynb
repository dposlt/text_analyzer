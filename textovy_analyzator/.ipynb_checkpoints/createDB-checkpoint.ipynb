{
 "cells": [
  {
   "cell_type": "code",
   "execution_count": 28,
   "id": "e76432d4-00f2-4bf9-98a3-df6988397b27",
   "metadata": {},
   "outputs": [],
   "source": [
    "import sqlite3, getpass\n",
    "from sqlite3 import Error\n",
    "\n",
    "def create_db(dbname):\n",
    "    try:\n",
    "        global connection\n",
    "        connection = sqlite3.Connection(dbname, timeout=10)\n",
    "        #global cursor\n",
    "        cursor = connection.cursor()\n",
    "        \n",
    "        table = \"\"\"\n",
    "        CREATE TABLE IF NOT EXISTS users(\n",
    "        person_id INTEGER PRIMARY KEY,\n",
    "        userName text NOT NULL UNIQUE,\n",
    "        userPass text NOT NULL UNIQUE\n",
    "        )\n",
    "        \"\"\"\n",
    "        \n",
    "        cursor.execute(table)\n",
    "        connection.commit()\n",
    "        #connection.close()\n",
    "            \n",
    "    except Error as e:\n",
    "        print(f'create db failed {e}')\n",
    "        \n",
    "def insert():\n",
    "    # insert unsecured values\n",
    "    cursor = connection.cursor()\n",
    "    userName = input('Založ nového uživatele => jméno: ')\n",
    "    userPass = getpass.getpass(f'Vlož heslo pro uživatele {userName}: ')\n",
    "    cursor.execute('''\n",
    "          INSERT INTO users (userName, userPass)\n",
    "\n",
    "                VALUES\n",
    "                (?,?)\n",
    "          ''', (userName, userPass))\n",
    "\n",
    "    connection.commit()\n",
    "    \n",
    "def select_for_test():\n",
    "    \n",
    "    cursor = connection.cursor()\n",
    "    select = '''\n",
    "        SELECT userName, userPass FROM users\n",
    "    '''\n",
    "    s = cursor.execute(select)\n",
    "    for i in s:\n",
    "        print(i)\n",
    "        "
   ]
  },
  {
   "cell_type": "code",
   "execution_count": 26,
   "id": "ad0afd39-2c79-424b-a94a-413692106e38",
   "metadata": {},
   "outputs": [],
   "source": [
    "create_db('users.db')"
   ]
  },
  {
   "cell_type": "code",
   "execution_count": 33,
   "id": "28d639e6-b250-43c3-bf84-293d41fd4d19",
   "metadata": {},
   "outputs": [
    {
     "name": "stdin",
     "output_type": "stream",
     "text": [
      "Založ nového uživatele => jméno:  David\n",
      "Vlož heslo pro uživatele David:  ········\n"
     ]
    }
   ],
   "source": [
    "insert()"
   ]
  },
  {
   "cell_type": "code",
   "execution_count": 34,
   "id": "6ed57962-1bb9-4e8f-8499-387c522409e0",
   "metadata": {},
   "outputs": [
    {
     "name": "stdout",
     "output_type": "stream",
     "text": [
      "('Eliska', 'test')\n",
      "('Petr', 'petr')\n",
      "('David', 'python')\n"
     ]
    }
   ],
   "source": [
    "select_for_test()"
   ]
  },
  {
   "cell_type": "code",
   "execution_count": null,
   "id": "99334551-e5c5-457f-9d14-017c06319b2f",
   "metadata": {},
   "outputs": [],
   "source": []
  }
 ],
 "metadata": {
  "kernelspec": {
   "display_name": "Python 3 (ipykernel)",
   "language": "python",
   "name": "python3"
  },
  "language_info": {
   "codemirror_mode": {
    "name": "ipython",
    "version": 3
   },
   "file_extension": ".py",
   "mimetype": "text/x-python",
   "name": "python",
   "nbconvert_exporter": "python",
   "pygments_lexer": "ipython3",
   "version": "3.9.13"
  }
 },
 "nbformat": 4,
 "nbformat_minor": 5
}
